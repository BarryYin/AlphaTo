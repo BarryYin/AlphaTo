{
 "cells": [
  {
   "cell_type": "markdown",
   "metadata": {},
   "source": [
    "# Gomoku Game with AI Agent\n",
    "\n",
    "Gomoku is a classic board game, also known as Five in a Row. In this example, we will show \n",
    "\n",
    "- How to build a host agent to manage the game board \n",
    "- How to build player agent to play the game\n",
    "- How to build the conversation to play the game\n",
    "\n",
    "## Prerequisites\n",
    "\n",
    "- Follow the [README.md](https://github.com/modelscope/agentscope) to install agentscope package. \n",
    "- Prepare a model configuration file. You can choose and modify one example configuration from the [example model configs](../example_model_configs) folder according to your needs. \n",
    "\n",
    "## Note\n",
    "\n",
    "- The example is tested with the following models. For other models, you may need to adjust the code accordingly. \n",
    "    - gpt-4\n",
    "    - gpt-3.5-turbo\n",
    "\n",
    "## Preparation\n",
    "\n",
    "Please fill the following cell with your model configurations."
   ]
  },
  {
   "cell_type": "code",
   "execution_count": 1,
   "outputs": [],
   "source": [
    "YOUR_MODEL_CONFIGURATION_NAME = \"{YOUR_MODEL_CONFIGURATION_NAME}\"\n",
    "YOUR_MODEL_CONFIGURATION = {\n",
    "    \"config_name\": YOUR_MODEL_CONFIGURATION_NAME\n",
    "    \n",
    "    # ...\n",
    "}"
   ],
   "metadata": {
    "collapsed": false,
    "ExecuteTime": {
     "end_time": "2024-03-27T08:09:57.602994Z",
     "start_time": "2024-03-27T08:09:57.565787Z"
    }
   }
  },
  {
   "cell_type": "markdown",
   "source": [
    "## Step 1: Prepare a board for Gomoku\n",
    "\n",
    "First we create a `BoardAgent` class by inheriting from `AgentBase`, which manage the game board and update the game status as follows.\n",
    "\n",
    "To create a better visual experience, we also provide a function `board2img` to convert the board to an image. "
   ],
   "metadata": {
    "collapsed": false
   }
  },
  {
   "cell_type": "code",
   "execution_count": 2,
   "outputs": [],
   "source": [
    "import numpy as np\n",
    "import matplotlib.pyplot as plt\n",
    "import matplotlib.patches as patches\n",
    "\n",
    "def board2img(board: np.ndarray, save_path: str)->str:\n",
    "    size = board.shape[0]\n",
    "    fig, ax = plt.subplots(figsize=(10, 10))\n",
    "    ax.set_xlim(0, size - 1)\n",
    "    ax.set_ylim(0, size - 1)\n",
    "    \n",
    "    for i in range(size):\n",
    "        ax.axhline(i, color='black', linewidth=1)\n",
    "        ax.axvline(i, color='black', linewidth=1)\n",
    "        \n",
    "    for y in range(size):\n",
    "        for x in range(size):\n",
    "            if board[y, x] == NAME_TO_PIECE[NAME_WHITE]:  # white player\n",
    "                circle = patches.Circle((x, y), 0.45, \n",
    "                                        edgecolor='black', \n",
    "                                        facecolor='black',\n",
    "                                        zorder=10)\n",
    "                ax.add_patch(circle)\n",
    "            elif board[y, x] == NAME_TO_PIECE[NAME_BLACK]:  # black player\n",
    "                circle = patches.Circle((x, y), 0.45, \n",
    "                                        edgecolor='black', \n",
    "                                        facecolor='white',\n",
    "                                        zorder=10)\n",
    "                ax.add_patch(circle)\n",
    "    # Hide the axes and invert the y-axis\n",
    "    ax.set_xticks(range(size))\n",
    "    ax.set_yticks(range(size))\n",
    "    ax.set_xticklabels(range(size))\n",
    "    ax.set_yticklabels(range(size))\n",
    "    ax.invert_yaxis()\n",
    "    plt.savefig(save_path, bbox_inches='tight', pad_inches=0.1)\n",
    "    plt.close(fig)  # Close the figure to free memory\n",
    "    return save_path"
   ],
   "metadata": {
    "collapsed": false,
    "ExecuteTime": {
     "end_time": "2024-03-27T08:09:58.153932Z",
     "start_time": "2024-03-27T08:09:57.571266Z"
    }
   }
  },
  {
   "cell_type": "markdown",
   "source": [
    "The following code shows the implementation of the `BoardAgent` class. The agent manages the game board and updates the game status."
   ],
   "metadata": {
    "collapsed": false
   }
  },
  {
   "cell_type": "code",
   "outputs": [],
   "source": [
    "import numpy as np\n",
    "from agentscope.message import Msg\n",
    "from agentscope.agents import AgentBase\n",
    "\n",
    "CURRENT_BOARD_PROMPT_TEMPLATE = \"\"\"The current board is as follows:\n",
    "{board}\n",
    "{player}, it's your turn.\"\"\"\n",
    "\n",
    "NAME_BLACK = \"Alice\"\n",
    "NAME_WHITE = \"Bob\"\n",
    "\n",
    "# The mapping from name to piece\n",
    "NAME_TO_PIECE = {\n",
    "    NAME_BLACK: \"o\",\n",
    "    NAME_WHITE: \"x\",\n",
    "}\n",
    "\n",
    "EMPTY_PIECE = \"0\"\n",
    "\n",
    "class BoardAgent(AgentBase):\n",
    "    \n",
    "    def __init__(self, name):\n",
    "        super().__init__(name=name, use_memory=False)\n",
    "        \n",
    "        # Init the board\n",
    "        self.size = 15\n",
    "        self.board = np.full((self.size, self.size), EMPTY_PIECE)\n",
    "        \n",
    "        # Record the status of the game\n",
    "        self.game_end = False\n",
    "        \n",
    "    def reply(self, input_: dict = None) -> dict:\n",
    "        if input_ is None:\n",
    "            # Beginning of the game\n",
    "            content = \"Welcome to the Gomoku game! Black player goes first. Please make your move.\" \n",
    "        else:\n",
    "            x, y = input_[\"content\"]\n",
    "            \n",
    "            self.assert_valid_move(x, y)\n",
    "            \n",
    "            if self.check_win(x, y, NAME_TO_PIECE[input_[\"name\"]]):\n",
    "                content = f\"The game ends, {input_['name']} wins!\"\n",
    "                self.game_end = True\n",
    "            else:\n",
    "                # change the board\n",
    "                self.board[x, y] = NAME_TO_PIECE[input_[\"name\"]]\n",
    "                \n",
    "                # check if the game ends\n",
    "                if self.check_draw():\n",
    "                    content = \"The game ends in a draw!\"\n",
    "                    self.game_end = True\n",
    "                else:\n",
    "                    next_player_name = NAME_BLACK if input_[\"name\"] == NAME_WHITE else NAME_WHITE\n",
    "                    content = CURRENT_BOARD_PROMPT_TEMPLATE.format(board=self.board2text(), player=next_player_name)\n",
    "        \n",
    "        msg_host = Msg(self.name, content, role=\"assistant\")\n",
    "        self.speak(msg_host)\n",
    "        \n",
    "        # Show an image of the board\n",
    "        img = plt.imread(board2img(self.board, 'current_board.png'))\n",
    "        plt.imshow(img)\n",
    "        plt.axis('off')\n",
    "        plt.show()\n",
    "        \n",
    "        return msg_host\n",
    "                    \n",
    "    def assert_valid_move(self, x: int, y: int) -> None:\n",
    "        if not (0 <= x < self.size and 0 <= y < self.size):\n",
    "            raise RuntimeError(f\"Invalid move: {[x, y]} out of board range.\")\n",
    "        \n",
    "        if not self.board[x, y] == EMPTY_PIECE:\n",
    "            raise RuntimeError(f\"Invalid move: {[x, y]} is already occupied by {self.board[x, y]}.\")\n",
    "    \n",
    "    def check_win(self, x: int, y: int, piece: str) -> bool:\n",
    "        xline = self._check_line(self.board[x, :], piece)\n",
    "        yline = self._check_line(self.board[:, y], piece)\n",
    "        diag1 = self._check_line(np.diag(self.board, y - x), piece)\n",
    "        diag2 = self._check_line(np.diag(np.fliplr(self.board), self.size - 1 - x - y), piece)\n",
    "        return xline or yline or diag1 or diag2\n",
    "\n",
    "    def check_draw(self) -> bool:\n",
    "        return np.all(self.board != EMPTY_PIECE)\n",
    "        \n",
    "    def board2text(self) -> str:\n",
    "        return \"\\n\".join([str(_)[1:-1].replace(\"'\", \"\").replace(\" \", \"\") for _ in self.board])\n",
    "        \n",
    "    def _check_line(self, line, piece: str) -> bool:\n",
    "        count = 0\n",
    "        for i in line:\n",
    "            if i == piece:\n",
    "                count += 1\n",
    "                if count == 5:\n",
    "                    return True\n",
    "            else:\n",
    "                count = 0\n",
    "        return False\n"
   ],
   "metadata": {
    "collapsed": false,
    "ExecuteTime": {
     "end_time": "2024-03-27T08:09:59.392069Z",
     "start_time": "2024-03-27T08:09:58.159470Z"
    }
   },
   "execution_count": 3
  },
  {
   "cell_type": "markdown",
   "source": [
    "### Step2: Prepare a Gomoku Player Agent\n",
    "\n",
    "In Gomoku player agent, we make the following assumptions:\n",
    " \n",
    "1. Agent's response only contains the move (a tuple of location `[x, y]`). Its thought is only recorded in its memory and only visible to itself, enabling the agent to generate strategies. \n",
    "2. Within the agent, to enable the agent to think, we ask LLMs to respond in a dictionary format, which contains the thought and the move (\"thought\" field must come before \"move\"). To achieve this, we prepare a parsing function to extract the dictionary from response. \n",
    "\n",
    "The implementation of the Gomoku agent is as follows: "
   ],
   "metadata": {
    "collapsed": false
   }
  },
  {
   "cell_type": "code",
   "outputs": [],
   "source": [
    "import json\n",
    "from agentscope.models import ModelResponse\n",
    "from typing import Optional\n",
    "\n",
    "SYS_PROMPT_TEMPLATE = \"\"\"\n",
    "You're a skillful Gomoku player. You should play against your opponent according to the following rules:\n",
    "\n",
    "Game Rules:\n",
    "1. This Gomoku board is a 15*15 grid. Moves are made by specifying row and column indexes, with [0, 0] marking the top-left corner and [14, 14] indicating the bottom-right corner.\n",
    "2. The goal is to be the first player to form an unbroken line of your pieces horizontally, vertically, or diagonally. \n",
    "3. If the board is completely filled with pieces and no player has formed a row of five, the game is declared a draw.\n",
    "\n",
    "Note: \n",
    "1. Your pieces are represented by '{}', your opponent's by '{}'. 0 represents an empty spot on the board. \n",
    "2. You should think carefully about your strategy and moves, considering both your and your opponent's subsequent moves. \n",
    "3. Make sure you don't place your piece on a spot that has already been occupied. \n",
    "4. Only an unbroken line of five same pieces will win the game. For example, \"xxxoxx\" won't be considered a win. \n",
    "5. Note the unbroken line can be formed in any direction: horizontal, vertical, or diagonal.\n",
    "\"\"\"\n",
    "\n",
    "HINT_PROMPT = \"\"\"You should respond in the following format, which can be loaded by json.loads in Python:\n",
    "{{\n",
    "    \"thought\": \"analyze the present situation, and what move you should make\",\n",
    "    \"move\": [row index, column index]\n",
    "}}\n",
    "\"\"\"\n",
    "\n",
    "\n",
    "def parse_func(response: ModelResponse) -> ModelResponse:\n",
    "    res_dict = json.loads(response.text)\n",
    "    if \"move\" in res_dict and \"thought\" in res_dict:\n",
    "        return ModelResponse(raw=res_dict)\n",
    "    else:\n",
    "        raise ValueError(f\"Invalid response format in parse_func with response: {response.text}\")\n",
    "\n",
    "class GomokuAgent(AgentBase):\n",
    "    \"\"\"A Gomoku agent that can play the game with another agent.\"\"\"\n",
    "    \n",
    "    def __init__(self, name, sys_prompt, model_config_name):\n",
    "        super().__init__(name=name, sys_prompt=sys_prompt, model_config_name=model_config_name)\n",
    "        \n",
    "        self.memory.add(Msg(\"system\", sys_prompt, role=\"system\"))\n",
    "        \n",
    "    def reply(self, x: Optional[dict] = None) -> dict:\n",
    "        if self.memory:\n",
    "            self.memory.add(x)\n",
    "        \n",
    "        msg_hint = Msg(\"system\", HINT_PROMPT, role=\"system\")\n",
    "        \n",
    "        prompt = self.model.format(\n",
    "            self.memory.get_memory(),\n",
    "            msg_hint,     \n",
    "        )\n",
    "        \n",
    "        response = self.model(\n",
    "            prompt,\n",
    "            parse_func=parse_func,\n",
    "            max_retries=3,\n",
    "        ).raw\n",
    "        \n",
    "        # For better presentation, we print the response proceeded by json.dumps, this msg won't be recorded in memory\n",
    "        self.speak(Msg(self.name, json.dumps(response, indent=4, ensure_ascii=False), role=\"assistant\"))\n",
    "        \n",
    "        if self.memory:\n",
    "            self.memory.add(Msg(self.name, response, role=\"assistant\"))\n",
    "        \n",
    "        # Hide thought from the response\n",
    "        return Msg(self.name, response[\"move\"], role=\"assistant\") \n"
   ],
   "metadata": {
    "collapsed": false,
    "ExecuteTime": {
     "end_time": "2024-03-27T08:09:59.397713Z",
     "start_time": "2024-03-27T08:09:59.392729Z"
    }
   },
   "execution_count": 4
  },
  {
   "cell_type": "markdown",
   "metadata": {},
   "source": [
    "Now, let's create two AI agents, named \"Alice\" and \"Bob,\" who will engage in the Gomoku game, and a board agent. Creating agents is straightforward. "
   ]
  },
  {
   "cell_type": "code",
   "outputs": [
    {
     "name": "stdout",
     "output_type": "stream",
     "text": [
      "\u001B[32m2024-03-27 16:09:59.427\u001B[0m | \u001B[1mINFO    \u001B[0m | \u001B[36magentscope.models\u001B[0m:\u001B[36mread_model_configs\u001B[0m:\u001B[36m171\u001B[0m - \u001B[1mLoad configs for model wrapper: post_api\u001B[0m\n",
      "\u001B[32m2024-03-27 16:09:59.435\u001B[0m | \u001B[1mINFO    \u001B[0m | \u001B[36magentscope.utils.monitor\u001B[0m:\u001B[36m_create_monitor_table\u001B[0m:\u001B[36m341\u001B[0m - \u001B[1mInit [monitor_metrics] as the monitor table\u001B[0m\n",
      "\u001B[32m2024-03-27 16:09:59.435\u001B[0m | \u001B[1mINFO    \u001B[0m | \u001B[36magentscope.utils.monitor\u001B[0m:\u001B[36m_create_monitor_table\u001B[0m:\u001B[36m342\u001B[0m - \u001B[1mInit [monitor_metrics_quota_exceeded] as the monitor trigger\u001B[0m\n",
      "\u001B[32m2024-03-27 16:09:59.436\u001B[0m | \u001B[1mINFO    \u001B[0m | \u001B[36magentscope.utils.monitor\u001B[0m:\u001B[36m__init__\u001B[0m:\u001B[36m311\u001B[0m - \u001B[1mSqliteMonitor initialization completed at [./runs/run_20240327-160958_kbf2ta/agentscope.db]\u001B[0m\n",
      "\u001B[32m2024-03-27 16:09:59.440\u001B[0m | \u001B[1mINFO    \u001B[0m | \u001B[36magentscope.models.model\u001B[0m:\u001B[36m__init__\u001B[0m:\u001B[36m257\u001B[0m - \u001B[1mInitialize model [post_api]\u001B[0m\n",
      "\u001B[32m2024-03-27 16:09:59.441\u001B[0m | \u001B[1mINFO    \u001B[0m | \u001B[36magentscope.models.model\u001B[0m:\u001B[36m__init__\u001B[0m:\u001B[36m257\u001B[0m - \u001B[1mInitialize model [post_api]\u001B[0m\n"
     ]
    }
   ],
   "source": [
    "import agentscope\n",
    "\n",
    "agentscope.init(model_configs=YOUR_MODEL_CONFIGURATION)\n",
    "\n",
    "piece_black = NAME_TO_PIECE[NAME_BLACK]\n",
    "piece_white = NAME_TO_PIECE[NAME_WHITE]\n",
    "\n",
    "black = GomokuAgent(\n",
    "    NAME_BLACK,\n",
    "    model_config_name=YOUR_MODEL_CONFIGURATION_NAME,\n",
    "    sys_prompt=SYS_PROMPT_TEMPLATE.format(piece_black, piece_white),\n",
    ")\n",
    "                    \n",
    "white = GomokuAgent(\n",
    "    NAME_WHITE,\n",
    "    model_config_name=YOUR_MODEL_CONFIGURATION_NAME,\n",
    "    sys_prompt=SYS_PROMPT_TEMPLATE.format(piece_white, piece_black),\n",
    ")\n",
    "\n",
    "board = BoardAgent(name=\"Host\")"
   ],
   "metadata": {
    "collapsed": false,
    "ExecuteTime": {
     "end_time": "2024-03-27T08:09:59.446367Z",
     "start_time": "2024-03-27T08:09:59.398116Z"
    }
   },
   "execution_count": 5
  },
  {
   "cell_type": "markdown",
   "source": [
    "### Step 3: Start the Gomoku game\n",
    "\n",
    "The game logic is simple in Gomoku, where two players take turns to make a move. The game ends when one player wins or the board is full. \n",
    "\n",
    "In this game, we use a message hub to share messages between the two players (board agent doesn't have memory), so that one player can hear what the board agent says to the other player, and what moves the other player makes. \n",
    "\n",
    "Note here we only show 10 steps of the game. You can adjust the `MAX_STEPS` to play more rounds."
   ],
   "metadata": {
    "collapsed": false
   }
  },
  {
   "cell_type": "code",
   "execution_count": 6,
   "outputs": [
    {
     "name": "stdout",
     "output_type": "stream",
     "text": [
      "\u001B[36m\u001B[1mHost\u001B[0m\u001B[36m\u001B[0m: Welcome to the Gomoku game! Black player goes first. Please make your move.\n"
     ]
    },
    {
     "data": {
      "text/plain": "<Figure size 432x288 with 1 Axes>",
      "image/png": "[encoded data removed]"
     },
     "metadata": {
      "needs_background": "light"
     },
     "output_type": "display_data"
    },
    {
     "name": "stdout",
     "output_type": "stream",
     "text": [
      "\u001B[32m\u001B[1mAlice\u001B[0m\u001B[32m\u001B[0m: {\n",
      "    \"thought\": \"As the first move of the game, it's best to place the piece in the center of the board to maximize possible winning directions.\",\n",
      "    \"move\": [\n",
      "        7,\n",
      "        7\n",
      "    ]\n",
      "}\n",
      "\u001B[36m\u001B[1mHost\u001B[0m\u001B[36m\u001B[0m: The current board is as follows:\n",
      "000000000000000\n",
      "000000000000000\n",
      "000000000000000\n",
      "000000000000000\n",
      "000000000000000\n",
      "000000000000000\n",
      "000000000000000\n",
      "0000000o0000000\n",
      "000000000000000\n",
      "000000000000000\n",
      "000000000000000\n",
      "000000000000000\n",
      "000000000000000\n",
      "000000000000000\n",
      "000000000000000\n",
      "Bob, it's your turn.\n"
     ]
    },
    {
     "data": {
      "text/plain": "<Figure size 432x288 with 1 Axes>",
      "image/png": "[encoded data removed]"
     },
     "metadata": {
      "needs_background": "light"
     },
     "output_type": "display_data"
    },
    {
     "name": "stdout",
     "output_type": "stream",
     "text": [
      "\u001B[35m\u001B[1mBob\u001B[0m\u001B[35m\u001B[0m: {\n",
      "    \"thought\": \"As the game has just started, I will place my piece near Alice's to prevent her from forming a line and to start building my own line.\",\n",
      "    \"move\": [\n",
      "        7,\n",
      "        8\n",
      "    ]\n",
      "}\n",
      "\u001B[36m\u001B[1mHost\u001B[0m\u001B[36m\u001B[0m: The current board is as follows:\n",
      "000000000000000\n",
      "000000000000000\n",
      "000000000000000\n",
      "000000000000000\n",
      "000000000000000\n",
      "000000000000000\n",
      "000000000000000\n",
      "0000000ox000000\n",
      "000000000000000\n",
      "000000000000000\n",
      "000000000000000\n",
      "000000000000000\n",
      "000000000000000\n",
      "000000000000000\n",
      "000000000000000\n",
      "Alice, it's your turn.\n"
     ]
    },
    {
     "data": {
      "text/plain": "<Figure size 432x288 with 1 Axes>",
      "image/png": "[encoded data removed]"
     },
     "metadata": {
      "needs_background": "light"
     },
     "output_type": "display_data"
    },
    {
     "name": "stdout",
     "output_type": "stream",
     "text": [
      "\u001B[32m\u001B[1mAlice\u001B[0m\u001B[32m\u001B[0m: {\n",
      "    \"thought\": \"My opponent placed his piece next to mine. I should block him and also try to create a potential line for myself.\",\n",
      "    \"move\": [\n",
      "        7,\n",
      "        6\n",
      "    ]\n",
      "}\n",
      "\u001B[36m\u001B[1mHost\u001B[0m\u001B[36m\u001B[0m: The current board is as follows:\n",
      "000000000000000\n",
      "000000000000000\n",
      "000000000000000\n",
      "000000000000000\n",
      "000000000000000\n",
      "000000000000000\n",
      "000000000000000\n",
      "000000oox000000\n",
      "000000000000000\n",
      "000000000000000\n",
      "000000000000000\n",
      "000000000000000\n",
      "000000000000000\n",
      "000000000000000\n",
      "000000000000000\n",
      "Bob, it's your turn.\n"
     ]
    },
    {
     "data": {
      "text/plain": "<Figure size 432x288 with 1 Axes>",
      "image/png": "[encoded data removed]"
     },
     "metadata": {
      "needs_background": "light"
     },
     "output_type": "display_data"
    },
    {
     "name": "stdout",
     "output_type": "stream",
     "text": [
      "\u001B[35m\u001B[1mBob\u001B[0m\u001B[35m\u001B[0m: {\n",
      "    \"thought\": \"I see Alice is trying to create a line horizontally. I need to block her next move otherwise she will have a chance to win. I will place my piece at [7, 5].\",\n",
      "    \"move\": [\n",
      "        7,\n",
      "        5\n",
      "    ]\n",
      "}\n",
      "\u001B[36m\u001B[1mHost\u001B[0m\u001B[36m\u001B[0m: The current board is as follows:\n",
      "000000000000000\n",
      "000000000000000\n",
      "000000000000000\n",
      "000000000000000\n",
      "000000000000000\n",
      "000000000000000\n",
      "000000000000000\n",
      "00000xoox000000\n",
      "000000000000000\n",
      "000000000000000\n",
      "000000000000000\n",
      "000000000000000\n",
      "000000000000000\n",
      "000000000000000\n",
      "000000000000000\n",
      "Alice, it's your turn.\n"
     ]
    },
    {
     "data": {
      "text/plain": "<Figure size 432x288 with 1 Axes>",
      "image/png": "[encoded data removed]"
     },
     "metadata": {
      "needs_background": "light"
     },
     "output_type": "display_data"
    },
    {
     "name": "stdout",
     "output_type": "stream",
     "text": [
      "\u001B[32m\u001B[1mAlice\u001B[0m\u001B[32m\u001B[0m: {\n",
      "    \"thought\": \"My opponent is trying to block me. I should place my piece at [7, 9] to create a potential line for myself.\",\n",
      "    \"move\": [\n",
      "        7,\n",
      "        9\n",
      "    ]\n",
      "}\n",
      "\u001B[36m\u001B[1mHost\u001B[0m\u001B[36m\u001B[0m: The current board is as follows:\n",
      "000000000000000\n",
      "000000000000000\n",
      "000000000000000\n",
      "000000000000000\n",
      "000000000000000\n",
      "000000000000000\n",
      "000000000000000\n",
      "00000xooxo00000\n",
      "000000000000000\n",
      "000000000000000\n",
      "000000000000000\n",
      "000000000000000\n",
      "000000000000000\n",
      "000000000000000\n",
      "000000000000000\n",
      "Bob, it's your turn.\n"
     ]
    },
    {
     "data": {
      "text/plain": "<Figure size 432x288 with 1 Axes>",
      "image/png": "[encoded data removed]"
     },
     "metadata": {
      "needs_background": "light"
     },
     "output_type": "display_data"
    },
    {
     "name": "stdout",
     "output_type": "stream",
     "text": [
      "\u001B[35m\u001B[1mBob\u001B[0m\u001B[35m\u001B[0m: {\n",
      "    \"thought\": \"Alice is trying to create a line horizontally again. I need to block her next move otherwise she will have a chance to win. I will place my piece at [7, 10].\",\n",
      "    \"move\": [\n",
      "        7,\n",
      "        10\n",
      "    ]\n",
      "}\n",
      "\u001B[36m\u001B[1mHost\u001B[0m\u001B[36m\u001B[0m: The current board is as follows:\n",
      "000000000000000\n",
      "000000000000000\n",
      "000000000000000\n",
      "000000000000000\n",
      "000000000000000\n",
      "000000000000000\n",
      "000000000000000\n",
      "00000xooxox0000\n",
      "000000000000000\n",
      "000000000000000\n",
      "000000000000000\n",
      "000000000000000\n",
      "000000000000000\n",
      "000000000000000\n",
      "000000000000000\n",
      "Alice, it's your turn.\n"
     ]
    },
    {
     "data": {
      "text/plain": "<Figure size 432x288 with 1 Axes>",
      "image/png": "[encoded data removed]"
     },
     "metadata": {
      "needs_background": "light"
     },
     "output_type": "display_data"
    },
    {
     "name": "stdout",
     "output_type": "stream",
     "text": [
      "\u001B[32m\u001B[1mAlice\u001B[0m\u001B[32m\u001B[0m: {\n",
      "    \"thought\": \"My opponent is trying to block me. I should place my piece at [6, 7] to create a potential line for myself.\",\n",
      "    \"move\": [\n",
      "        6,\n",
      "        7\n",
      "    ]\n",
      "}\n",
      "\u001B[36m\u001B[1mHost\u001B[0m\u001B[36m\u001B[0m: The current board is as follows:\n",
      "000000000000000\n",
      "000000000000000\n",
      "000000000000000\n",
      "000000000000000\n",
      "000000000000000\n",
      "000000000000000\n",
      "0000000o0000000\n",
      "00000xooxox0000\n",
      "000000000000000\n",
      "000000000000000\n",
      "000000000000000\n",
      "000000000000000\n",
      "000000000000000\n",
      "000000000000000\n",
      "000000000000000\n",
      "Bob, it's your turn.\n"
     ]
    },
    {
     "data": {
      "text/plain": "<Figure size 432x288 with 1 Axes>",
      "image/png": "[encoded data removed]"
     },
     "metadata": {
      "needs_background": "light"
     },
     "output_type": "display_data"
    },
    {
     "name": "stdout",
     "output_type": "stream",
     "text": [
      "\u001B[35m\u001B[1mBob\u001B[0m\u001B[35m\u001B[0m: {\n",
      "    \"thought\": \"Alice is trying to build a vertical line now. I need to block her next move otherwise she will have a chance to win. I will place my piece at [5, 7].\",\n",
      "    \"move\": [\n",
      "        5,\n",
      "        7\n",
      "    ]\n",
      "}\n",
      "\u001B[36m\u001B[1mHost\u001B[0m\u001B[36m\u001B[0m: The current board is as follows:\n",
      "000000000000000\n",
      "000000000000000\n",
      "000000000000000\n",
      "000000000000000\n",
      "000000000000000\n",
      "0000000x0000000\n",
      "0000000o0000000\n",
      "00000xooxox0000\n",
      "000000000000000\n",
      "000000000000000\n",
      "000000000000000\n",
      "000000000000000\n",
      "000000000000000\n",
      "000000000000000\n",
      "000000000000000\n",
      "Alice, it's your turn.\n"
     ]
    },
    {
     "data": {
      "text/plain": "<Figure size 432x288 with 1 Axes>",
      "image/png": "[encoded data removed]"
     },
     "metadata": {
      "needs_background": "light"
     },
     "output_type": "display_data"
    },
    {
     "name": "stdout",
     "output_type": "stream",
     "text": [
      "\u001B[32m\u001B[1mAlice\u001B[0m\u001B[32m\u001B[0m: {\n",
      "    \"thought\": \"My opponent is trying to block me. I should place my piece at [8, 7] to create a potential line for myself.\",\n",
      "    \"move\": [\n",
      "        8,\n",
      "        7\n",
      "    ]\n",
      "}\n",
      "\u001B[36m\u001B[1mHost\u001B[0m\u001B[36m\u001B[0m: The current board is as follows:\n",
      "000000000000000\n",
      "000000000000000\n",
      "000000000000000\n",
      "000000000000000\n",
      "000000000000000\n",
      "0000000x0000000\n",
      "0000000o0000000\n",
      "00000xooxox0000\n",
      "0000000o0000000\n",
      "000000000000000\n",
      "000000000000000\n",
      "000000000000000\n",
      "000000000000000\n",
      "000000000000000\n",
      "000000000000000\n",
      "Bob, it's your turn.\n"
     ]
    },
    {
     "data": {
      "text/plain": "<Figure size 432x288 with 1 Axes>",
      "image/png": "[encoded data removed]"
     },
     "metadata": {
      "needs_background": "light"
     },
     "output_type": "display_data"
    },
    {
     "name": "stdout",
     "output_type": "stream",
     "text": [
      "\u001B[35m\u001B[1mBob\u001B[0m\u001B[35m\u001B[0m: {\n",
      "    \"thought\": \"Alice is trying to build a vertical line again. I need to block her next move otherwise she will have a chance to win. I will place my piece at [9, 7].\",\n",
      "    \"move\": [\n",
      "        9,\n",
      "        7\n",
      "    ]\n",
      "}\n"
     ]
    }
   ],
   "source": [
    "from agentscope import msghub\n",
    "\n",
    "MAX_STEPS = 10\n",
    "\n",
    "msg = None\n",
    "i = 0\n",
    "\n",
    "# Use a msg hub to share conversation between two players, e.g. white player can hear what black player says to the board\n",
    "with msghub(participants=[black, white, board]):\n",
    "    while not board.game_end and i < MAX_STEPS:\n",
    "        for player in [black, white]:\n",
    "            # receive the move from the player, judge if the game ends and remind the player to make a move\n",
    "            msg = board(msg)\n",
    "            \n",
    "            # end the game if draw or win \n",
    "            if board.game_end:\n",
    "                break\n",
    "                \n",
    "            # make a move\n",
    "            msg = player(msg)\n",
    "            \n",
    "            i += 1"
   ],
   "metadata": {
    "collapsed": false,
    "ExecuteTime": {
     "end_time": "2024-03-27T08:10:33.989202Z",
     "start_time": "2024-03-27T08:09:59.446824Z"
    }
   }
  },
  {
   "cell_type": "markdown",
   "source": [
    "## Future Direction\n",
    "\n",
    "This is only a simple example for Gomoku with AI agents. To further improve the game, you can try:\n",
    "\n",
    "- Use `agentscope.agents.UserAgent` to replace one player agent, so you can participate in the game\n",
    "- Use a reasoning algorithm within the agent to make a better move\n",
    "- Fine tune a model to improve the performance of the agent\n",
    "\n",
    "For complete code, we provide in [code/game_gomoku.py](./code/game_gomoku.py)."
   ],
   "metadata": {
    "collapsed": false
   }
  }
 ],
 "metadata": {
  "kernelspec": {
   "display_name": "agentscope",
   "language": "python",
   "name": "python3"
  },
  "language_info": {
   "codemirror_mode": {
    "name": "ipython",
    "version": 3
   },
   "file_extension": ".py",
   "mimetype": "text/x-python",
   "name": "python",
   "nbconvert_exporter": "python",
   "pygments_lexer": "ipython3",
   "version": "3.9.19"
  }
 },
 "nbformat": 4,
 "nbformat_minor": 2
}
