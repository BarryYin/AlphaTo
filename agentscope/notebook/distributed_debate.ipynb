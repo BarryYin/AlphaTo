{
 "cells": [
  {
   "cell_type": "markdown",
   "id": "478efc38-ac99-40a7-9e13-b72840f14e19",
   "metadata": {},
   "source": [
    "# Distributed debate"
   ]
  },
  {
   "cell_type": "markdown",
   "id": "2f0c5593-c810-4c93-90de-b2c389b878ab",
   "metadata": {
    "collapsed": true
   },
   "source": [
    "This example simulates a debate competition with three participant agents, including the affirmative side (Pro), the negative side (Con), and the adjudicator (Judge). \n",
    "\n",
    "Pro believes that AGI can be achieved using the GPT model framework, while Con contests it. Judge listens to both sides' arguments and provides an analytical judgment on which side presented a more compelling and reasonable case.\n",
    "\n",
    "A fully distributed version can be found in `examples/distributed/distributed_debate.py`.\n",
    "Here we provide a standalone multi-process version."
   ]
  },
  {
   "cell_type": "markdown",
   "id": "321e5966-752c-4a28-b63e-3239008d6b3a",
   "metadata": {},
   "source": [
    "To install AgentScope, please follow the steps in [README.md](../README.md#installation)."
   ]
  },
  {
   "cell_type": "markdown",
   "id": "fc97a3fc-6bed-4a0f-bf61-e977630a159c",
   "metadata": {},
   "source": [
    "First, we need to set the model configs of AgentScope."
   ]
  },
  {
   "cell_type": "code",
   "execution_count": null,
   "id": "7924b86d",
   "metadata": {},
   "outputs": [],
   "source": [
    "model_configs = [\n",
    "    {\n",
    "        \"model_type\": \"openai\",\n",
    "        \"config_name\": \"gpt-3.5-turbo\",\n",
    "        \"model_name\": \"gpt-3.5-turbo\",\n",
    "        \"api_key\": \"xxx\",\n",
    "        \"organization\": \"xxx\",\n",
    "        \"generate_args\": {\n",
    "            \"temperature\": 0.0,\n",
    "        },\n",
    "    },\n",
    "    {\n",
    "        \"model_type\": \"openai\",\n",
    "        \"config_name\": \"gpt-4\",\n",
    "        \"model_name\": \"gpt-4\",\n",
    "        \"api_key\": \"xxx\",\n",
    "        \"organization\": \"xxx\",\n",
    "        \"generate_args\": {\n",
    "            \"temperature\": 0.0,\n",
    "        },\n",
    "    }\n",
    "]"
   ]
  },
  {
   "cell_type": "markdown",
   "id": "0072fc64",
   "metadata": {},
   "source": [
    "Second, let's start the three agents in the debate. Note that each agent here will automatically starts a sub-process, and the `reply` method is executed within the sub-process."
   ]
  },
  {
   "cell_type": "code",
   "execution_count": null,
   "id": "260aab10",
   "metadata": {},
   "outputs": [],
   "source": [
    "import agentscope\n",
    "from agentscope.agents.dialog_agent import DialogAgent\n",
    "\n",
    "agentscope.init(model_configs=model_configs)\n",
    "\n",
    "pro_agent = DialogAgent(\n",
    "    name=\"Pro\",\n",
    "    model_config_name=\"gpt-3.5-turbo\",\n",
    "    use_memory=True,\n",
    "    sys_prompt=\"Assume the role of a debater who is arguing in favor of the proposition that AGI (Artificial General Intelligence) can be achieved using the GPT model framework. Construct a coherent and persuasive argument, including scientific, technological, and theoretical evidence, to support the statement that GPT models are a viable path to AGI. Highlight the advancements in language understanding, adaptability, and scalability of GPT models as key factors in progressing towards AGI.\",\n",
    ").to_dist()\n",
    "con_agent = DialogAgent(\n",
    "    name=\"Con\",\n",
    "    model_config_name=\"gpt-3.5-turbo\",\n",
    "    use_memory=True,\n",
    "    sys_prompt=\"Assume the role of a debater who is arguing against the proposition that AGI can be achieved using the GPT model framework. Construct a coherent and persuasive argument, including scientific, technological, and theoretical evidence, to support the statement that GPT models, while impressive, are insufficient for reaching AGI. Discuss the limitations of GPT models such as lack of understanding, consciousness, ethical reasoning, and general problem-solving abilities that are essential for true AGI.\",\n",
    ").to_dist()\n",
    "judge_agent = DialogAgent(\n",
    "    name=\"Judge\",\n",
    "    model_config_name=\"gpt-3.5-turbo\",\n",
    "    use_memory=True,\n",
    "    sys_prompt=\"Assume the role of an impartial judge in a debate where the affirmative side argues that AGI can be achieved using the GPT model framework, and the negative side contests this. Listen to both sides' arguments and provide an analytical judgment on which side presented a more compelling and reasonable case. Consider the strength of the evidence, the persuasiveness of the reasoning, and the overall coherence of the arguments presented by each side.\"\n",
    ").to_dist()"
   ]
  },
  {
   "cell_type": "markdown",
   "id": "01ca8024-fa7e-4d7f-bf35-a78511a47ab3",
   "metadata": {},
   "source": [
    "Next, write the main debate competition process.\n",
    "Note that we need to use `msghub` to ensure each agent in the debate knows the speeaches of all other agents."
   ]
  },
  {
   "cell_type": "code",
   "execution_count": null,
   "id": "6391fb00-f74c-42c5-b742-56b7a773f875",
   "metadata": {},
   "outputs": [],
   "source": [
    "from agentscope.msghub import msghub\n",
    "from agentscope.message import Msg\n",
    "from agentscope.utils.logging_utils import logger\n",
    "\n",
    "# Rules explained before the debate begins \n",
    "ANNOUNCEMENT = \"\"\"\n",
    "Welcome to the debate on whether Artificial General Intelligence (AGI) can be achieved using the GPT model framework. This debate will consist of three rounds. In each round, the affirmative side will present their argument first, followed by the negative side. After both sides have presented, the adjudicator will summarize the key points and analyze the strengths of the arguments.\n",
    "\n",
    "The rules are as follows:\n",
    "\n",
    "Each side must present clear, concise arguments backed by evidence and logical reasoning.\n",
    "No side may interrupt the other while they are presenting their case.\n",
    "After both sides have presented, the adjudicator will have time to deliberate and will then provide a summary, highlighting the most persuasive points from both sides.\n",
    "The adjudicator's summary will not declare a winner for the individual rounds but will focus on the quality and persuasiveness of the arguments.\n",
    "At the conclusion of the three rounds, the adjudicator will declare the overall winner based on which side won two out of the three rounds, considering the consistency and strength of the arguments throughout the debate.\n",
    "Let us begin the first round. The affirmative side: please present your argument for why AGI can be achieved using the GPT model framework.\n",
    "\"\"\"\n",
    "\n",
    "\n",
    "\"\"\"Setup the main debate competition process\"\"\"\n",
    "participants = [pro_agent, con_agent, judge_agent]\n",
    "hint = Msg(name=\"System\", content=ANNOUNCEMENT)\n",
    "x = None\n",
    "with msghub(participants=participants, announcement=hint):\n",
    "    for _ in range(3):\n",
    "        pro_resp = pro_agent(x)\n",
    "        logger.chat(pro_resp)\n",
    "        con_resp = con_agent(pro_resp)\n",
    "        logger.chat(con_resp)\n",
    "        x = judge_agent(con_resp)\n",
    "        logger.chat(x)\n",
    "    x = judge_agent(x)\n",
    "    logger.chat(x)\n"
   ]
  },
  {
   "cell_type": "markdown",
   "id": "dbfc5033",
   "metadata": {},
   "source": [
    "Finally, just wait for the above code to run and watch the debate proceed."
   ]
  }
 ],
 "metadata": {
  "kernelspec": {
   "display_name": "Python 3 (ipykernel)",
   "language": "python",
   "name": "python3"
  },
  "language_info": {
   "codemirror_mode": {
    "name": "ipython",
    "version": 3
   },
   "file_extension": ".py",
   "mimetype": "text/x-python",
   "name": "python",
   "nbconvert_exporter": "python",
   "pygments_lexer": "ipython3",
   "version": "3.10.9"
  }
 },
 "nbformat": 4,
 "nbformat_minor": 5
}
